{
 "cells": [
  {
   "cell_type": "code",
   "execution_count": 1,
   "metadata": {},
   "outputs": [],
   "source": [
    "from time import time\n",
    "from community_detection import p_amis, network, dico_reseau, create_network, find_community_by_decreasing_popularity, get_people, find_community_from_person"
   ]
  },
  {
   "attachments": {},
   "cell_type": "markdown",
   "metadata": {},
   "source": [
    "### Question 2\n",
    "\n",
    "Comparer théoriquement et expériementalement les fonctions `dico_reseau` et `create_network`."
   ]
  },
  {
   "attachments": {},
   "cell_type": "markdown",
   "metadata": {},
   "source": [
    "*Complexité*\n",
    "- **dico_reseau** : complexité en O(n<sup>2</sup>)\n",
    "- **create_network** : complexité en O(n)\n",
    "\n",
    "complexité de dico_reseau > complexité de create_network"
   ]
  },
  {
   "cell_type": "code",
   "execution_count": 2,
   "metadata": {},
   "outputs": [
    {
     "name": "stdout",
     "output_type": "stream",
     "text": [
      "La moyenne de temps d'execution de la fonction dico_reseau() est :  4.5042037963867185e-05\n",
      "La moyenne de temps d'execution de la fonction create_network() est :  5.9604644775390625e-06\n",
      "create_network est plus rapide de  3.908157348632812e-05\n"
     ]
    }
   ],
   "source": [
    "i = 0\n",
    "somme = 0\n",
    "while i < 100 : \n",
    "    depart = time()\n",
    "    dico_reseau(p_amis)\n",
    "    somme += time()-depart\n",
    "    i+=1\n",
    "moyenne1 = somme/100\n",
    "print(\"La moyenne de temps d'execution de la fonction dico_reseau() est : \", moyenne1)\n",
    "\n",
    "i = 0\n",
    "somme = 0\n",
    "while i < 100 : \n",
    "    depart = time()\n",
    "    create_network(p_amis)\n",
    "    somme += time()-depart\n",
    "    i+=1\n",
    "moyenne2 = somme/100\n",
    "print(\"La moyenne de temps d'execution de la fonction create_network() est : \", moyenne2)\n",
    "\n",
    "print(\"create_network est plus rapide de \",moyenne1-moyenne2)\n"
   ]
  },
  {
   "attachments": {},
   "cell_type": "markdown",
   "metadata": {},
   "source": [
    "### Question 11\n",
    "\n",
    "Comparer théoriquement et expérimentalement les deux heuristiques de construction, celle donnée par la fonction `find_community_by_decreasing_popularity` et celles donnée par la fonction `find_community_from_person` appliquée à une personne la plus populaire (la recherche de la personne la plus populaire sera prise en compte dans la complexité).\n"
   ]
  },
  {
   "cell_type": "code",
   "execution_count": 3,
   "metadata": {},
   "outputs": [
    {
     "name": "stdout",
     "output_type": "stream",
     "text": [
      "temps d'execution de find_community_by_decreasing_popularity :  5.1975250244140625e-05\n",
      "temps d'execution de find_community_from_person  0.00012111663818359375\n"
     ]
    }
   ],
   "source": [
    "debut = time()\n",
    "find_community_by_decreasing_popularity(network)\n",
    "print(\"temps d'execution de find_community_by_decreasing_popularity : \", time()-debut)\n",
    "\n",
    "debut = time()\n",
    "tab = get_people(network)\n",
    "most_popular_index = 0\n",
    "i = 1\n",
    "while i < len(tab):\n",
    "    if len(network[tab[i]]) >= len(network[tab[most_popular_index]]):\n",
    "        most_popular_index = i\n",
    "    i+=1\n",
    "\n",
    "find_community_from_person(network, tab[most_popular_index])\n",
    "\n",
    "print(\"temps d'execution de find_community_from_person \", time()-debut)"
   ]
  },
  {
   "attachments": {},
   "cell_type": "markdown",
   "metadata": {},
   "source": [
    "_Complexité_\n",
    "\n",
    "La complexité des deux fonctions est quadratique car elles ont des boucles qui parcout le tableau et pour chaque valeur du tableau elles font appel à d'autres fonctions qui elles mêmes parcourent le tableau en paramètre."
   ]
  }
 ],
 "metadata": {
  "kernelspec": {
   "display_name": "Python 3",
   "language": "python",
   "name": "python3"
  },
  "language_info": {
   "codemirror_mode": {
    "name": "ipython",
    "version": 3
   },
   "file_extension": ".py",
   "mimetype": "text/x-python",
   "name": "python",
   "nbconvert_exporter": "python",
   "pygments_lexer": "ipython3",
   "version": "3.10.8"
  },
  "orig_nbformat": 4,
  "vscode": {
   "interpreter": {
    "hash": "aee8b7b246df8f9039afb4144a1f6fd8d2ca17a180786b69acc140d282b71a49"
   }
  }
 },
 "nbformat": 4,
 "nbformat_minor": 2
}
