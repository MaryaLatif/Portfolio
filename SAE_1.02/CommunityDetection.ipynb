{
 "cells": [
  {
   "cell_type": "markdown",
   "metadata": {},
   "source": [
    "### Question 1\n",
    "\n",
    "On souhaite faire une fonction similaire à la fonction `dico_reseau` de la SAÉ S01.01 mais avec un autre algorithme.\n",
    "Définir la fonction `create_network` prenant en paramètre un tableau de couples d'amis et retournant le réseau associé.\n",
    "\n",
    "**Important :** L'appel de la fonction `create_network` doit retourner le même dictionnaire (seul l'ordre des amis peut varier) que l'appel de la fonction `dico_reseau` si le tableau de couples d'amis est le même.\n",
    "\n",
    "La construction du dictionnaire se fera en parcourrant une seule fois le tableau de couples d'amis. Pour chaque couple `(p1, p2)`,  on ajoutera directement `p2` à la liste des amis de `p1` si ce dernier est une clé du dictionnaire. Sinon, on ajoutera dans le dictionnaire la clé `p1` avec `p2` comme seul ami. On procèdera de même avec `p2`.\n"
   ]
  },
  {
   "cell_type": "code",
   "execution_count": 2,
   "metadata": {},
   "outputs": [],
   "source": [
    "def create_network(friend):\n",
    "    dico = {}\n",
    "    i = 0\n",
    "\n",
    "    while i < len(friend):\n",
    "        if friend[i] not in dico :\n",
    "            dico[friend[i]] = []\n",
    "        if friend[i+1] not in dico :\n",
    "            dico[friend[i+1]] = []\n",
    "            \n",
    "        dico[friend[i]].append(friend[i+1])\n",
    "        dico[friend[i+1]].append(friend[i])\n",
    "        i+=2\n",
    "    \n",
    "    return dico\n"
   ]
  },
  {
   "cell_type": "code",
   "execution_count": 3,
   "metadata": {},
   "outputs": [
    {
     "name": "stdout",
     "output_type": "stream",
     "text": [
      "test_create_network : Test sur un tableau de 2 amis = Réussi\n",
      "test_create_network : Test sur un tableau vide = Réussi\n",
      "Erreur test_create_network : Test avec amis qui ont le même prénom échoué. Le test ne peux pas réussir car la seul information que nous avons est le prénom des personnes.\n"
     ]
    }
   ],
   "source": [
    "def test_create_network():\n",
    "    \"Fonction test de la fonction create_network\"\n",
    "    assert create_network([\"Marya\", \"Daniel\"]) == {\"Marya\":[\"Daniel\"], \"Daniel\":[\"Marya\"]}\n",
    "    print(\"test_create_network : Test sur un tableau de 2 amis = Réussi\")\n",
    "\n",
    "    assert create_network([]) == {}\n",
    "    print(\"test_create_network : Test sur un tableau vide = Réussi\")\n",
    "\n",
    "    try:\n",
    "        assert create_network([\"Marya\", \"Marya\"]) == {\"Marya\" : [\"Marya\"]}\n",
    "    except AssertionError :\n",
    "        print(\"Erreur test_create_network : Test avec amis qui ont le même prénom échoué. Le test ne peux pas réussir car la seul information que nous avons est le prénom des personnes.\")\n",
    "\n",
    "test_create_network()"
   ]
  },
  {
   "cell_type": "code",
   "execution_count": 4,
   "metadata": {},
   "outputs": [
    {
     "name": "stdout",
     "output_type": "stream",
     "text": [
      "{'Muriel': ['Joel', 'Yasmine'], 'Joel': ['Muriel', 'Yasmine', 'Nasssim', 'Andrea', 'Ali'], 'Yasmine': ['Muriel', 'Joel', 'Thomas'], 'Thomas': ['Yasmine', 'Daria', 'Carole'], 'Nasssim': ['Joel', 'Andrea', 'Ali'], 'Andrea': ['Joel', 'Nasssim', 'Ali', 'Valentin'], 'Ali': ['Joel', 'Nasssim', 'Andrea'], 'Daria': ['Thomas'], 'Carole': ['Thomas'], 'Thierry': ['Axel', 'Leo'], 'Axel': ['Thierry', 'Leo'], 'Leo': ['Thierry', 'Axel', 'Valentin'], 'Valentin': ['Leo', 'Andrea']}\n"
     ]
    }
   ],
   "source": [
    "p_amis = [\n",
    "\"Muriel\", \"Joel\",\n",
    "\"Muriel\", \"Yasmine\",\n",
    "\"Joel\",\"Yasmine\",\n",
    "\n",
    "\"Yasmine\", \"Thomas\",\n",
    "\n",
    "\"Joel\", \"Nasssim\",\n",
    "\"Joel\", \"Andrea\",\n",
    "\"Joel\", \"Ali\",\n",
    "\"Nasssim\", \"Andrea\",\n",
    "\"Nasssim\", \"Ali\",\n",
    "\"Andrea\", \"Ali\",\n",
    "\n",
    "\"Thomas\", \"Daria\",\n",
    "\"Thomas\", \"Carole\",\n",
    "\n",
    "\"Thierry\", \"Axel\",\n",
    "\"Thierry\", \"Leo\",\n",
    "\"Axel\", \"Leo\",\n",
    "\n",
    " \"Valentin\", \"Leo\",\n",
    " \"Valentin\", \"Andrea\"\n",
    " ]\n",
    "\n",
    "\n",
    "print(create_network(p_amis))"
   ]
  },
  {
   "cell_type": "markdown",
   "metadata": {},
   "source": [
    "### Question 2\n",
    "\n",
    "Comparer théoriquement et expériementalement les fonctions `dico_reseau` et `create_network`.\n"
   ]
  },
  {
   "cell_type": "code",
   "execution_count": 5,
   "metadata": {},
   "outputs": [],
   "source": [
    "def liste_amis(amis, prenom):\n",
    "    \"\"\"\n",
    "        Retourne la liste des amis de prenom en fonction du tableau amis.\n",
    "    \"\"\"\n",
    "    prenoms_amis = []\n",
    "    i = 0\n",
    "    while i < len(amis)//2:\n",
    "        if amis[2 * i] == prenom:\n",
    "            prenoms_amis.append(amis[2*i+1])\n",
    "        elif amis[2*i+1] == prenom:\n",
    "            prenoms_amis.append(amis[2*i])\n",
    "        i += 1\n",
    "    return prenoms_amis\n",
    "\n",
    "\n",
    "def personnes_reseau(amis):\n",
    "    \"\"\" \n",
    "        Retourne un tableau contenant la liste des personnes du réseau.\n",
    "    \"\"\"\n",
    "    people = []\n",
    "    i = 0\n",
    "    while i < len(amis):\n",
    "        if amis[i] not in people:\n",
    "            people.append(amis[i])\n",
    "        i += 1\n",
    "    return people\n",
    "\n",
    "\n",
    "def dico_reseau(amis):\n",
    "    \"\"\" \n",
    "        Retourne le dictionnaire correspondant au réseau.\n",
    "    \"\"\"\n",
    "    dico = {}\n",
    "    people = personnes_reseau(amis)\n",
    "    i = 0\n",
    "    while i < len(people):\n",
    "        dico[people[i]] = liste_amis(amis, people[i])\n",
    "        i += 1\n",
    "    return dico\n"
   ]
  },
  {
   "cell_type": "code",
   "execution_count": 6,
   "metadata": {},
   "outputs": [
    {
     "name": "stdout",
     "output_type": "stream",
     "text": [
      "La moyenne de temps d'execution de la fonction dico_reseau() est :  2.9222965240478514e-05\n",
      "La moyenne de temps d'execution de la fonction create_network() est :  4.227161407470703e-06\n",
      "create_network est plus rapide de  2.499580383300781e-05\n"
     ]
    }
   ],
   "source": [
    "from time import*\n",
    "i = 0\n",
    "somme = 0\n",
    "while i < 100 : \n",
    "    depart = time()\n",
    "    dico_reseau(p_amis)\n",
    "    somme += time()-depart\n",
    "    i+=1\n",
    "moyenne1 = somme/100\n",
    "print(\"La moyenne de temps d'execution de la fonction dico_reseau() est : \", moyenne1)\n",
    "\n",
    "i = 0\n",
    "somme = 0\n",
    "while i < 100 : \n",
    "    depart = time()\n",
    "    create_network(p_amis)\n",
    "    somme += time()-depart\n",
    "    i+=1\n",
    "moyenne2 = somme/100\n",
    "print(\"La moyenne de temps d'execution de la fonction create_network() est : \", moyenne2)\n",
    "\n",
    "print(\"create_network est plus rapide de \",moyenne1-moyenne2)"
   ]
  },
  {
   "cell_type": "markdown",
   "metadata": {},
   "source": [
    "*Complexité*\n",
    "- **dico_reseau** : complexité en O(n<sup>2</sup>)\n",
    "- **create_network** : complexité en O(n)\n",
    "\n",
    "complexité de dico_reseau > complexité de create_network"
   ]
  },
  {
   "cell_type": "markdown",
   "metadata": {},
   "source": [
    "### Question 3\n",
    "\n",
    "Définir la fonction `get_people` prenant en paramètre un réseau et retournant la liste des personnes de ce réseau dans un tableau.\n",
    "\n",
    "L'appel de cette fonction avec le réseau donné en exemple doit retourner par exemple le tableau `[\"Alice\", \"Bob\", \"Charlie\", \"Dominique\"]`. L'ordre n'a pas d'importance.\n"
   ]
  },
  {
   "cell_type": "code",
   "execution_count": 7,
   "metadata": {},
   "outputs": [
    {
     "name": "stdout",
     "output_type": "stream",
     "text": [
      "['Muriel', 'Joel', 'Yasmine', 'Thomas', 'Nasssim', 'Andrea', 'Ali', 'Daria', 'Carole', 'Thierry', 'Axel', 'Leo', 'Valentin']\n"
     ]
    }
   ],
   "source": [
    "def get_people(network):\n",
    "    tab = []\n",
    "    for val in network :\n",
    "        tab.append(val)\n",
    "    return tab\n",
    "\n",
    "print(get_people(create_network(p_amis)))"
   ]
  },
  {
   "cell_type": "code",
   "execution_count": 8,
   "metadata": {},
   "outputs": [
    {
     "name": "stdout",
     "output_type": "stream",
     "text": [
      "test_get_people : test avec un reseau vide en paramètre = Réussi\n",
      "test_get_people : test avec un réseau de 2 personnes = Réussi\n",
      "Erreur test_get_people : test avec un réseau avec 2 personnes du même prénom ne retourne pas un tableau avec 2x le même prénom\n"
     ]
    }
   ],
   "source": [
    "def test_get_people():\n",
    "    \"\"\"\n",
    "        Fonction test de la fonction get_people \n",
    "    \"\"\"\n",
    "    assert get_people({}) == []\n",
    "    print(\"test_get_people : test avec un reseau vide en paramètre = Réussi\")\n",
    "    assert get_people({\"Alice\" : \"\", \"Bob\": \"\"}) == [\"Alice\", \"Bob\"]\n",
    "    print(\"test_get_people : test avec un réseau de 2 personnes = Réussi\")\n",
    "    try :\n",
    "        assert get_people({\"Alice\": \"\", \"Alice\": \"\"}) == [\"Alice\", \"Alice\"]\n",
    "    except AssertionError :\n",
    "        print(\"Erreur test_get_people : test avec un réseau avec 2 personnes du même prénom ne retourne pas un tableau avec 2x le même prénom\")\n",
    "\n",
    "test_get_people()"
   ]
  },
  {
   "cell_type": "markdown",
   "metadata": {},
   "source": [
    "### Question 4\n",
    "\n",
    "Définir la fonction `are_friends` prenant en paramètre un réseau et deux personnes. La fonction devra retourner `True` si les deux personnes sont amies, et `False` sinon.\n",
    "\n",
    "L'appel de cette fonction avec le résau donné en exemple et les personnes `\"Alice\"` et `\"Bob\"` doit retourner `True`. Par contre, avec les personnes `\"Alice\"` et `\"Charlie\"`, la fonction doit retourner `False`.\n"
   ]
  },
  {
   "cell_type": "code",
   "execution_count": 9,
   "metadata": {},
   "outputs": [
    {
     "name": "stdout",
     "output_type": "stream",
     "text": [
      "True\n",
      "False\n"
     ]
    }
   ],
   "source": [
    "def are_friends(network, p1, p2):\n",
    "    return p1 in network and p2 in network and p2 in network[p1]\n",
    "\n",
    "print(are_friends(create_network(p_amis),\"Muriel\", \"Joel\"))\n",
    "print(are_friends(create_network(p_amis),\"Thomas\", \"Joel\"))"
   ]
  },
  {
   "cell_type": "code",
   "execution_count": 10,
   "metadata": {},
   "outputs": [
    {
     "name": "stdout",
     "output_type": "stream",
     "text": [
      "test_are_friends : test d'amitié entre deux personne qui ne sont pas dans le réseau : Réussi\n",
      "test_are_friends : test d'amitié entre deux personnes du même réseau : Réussi\n",
      "test_are_friends : test quand une personne du réseau est ami avec l'un mais l'autre ne l'est pas = Réussi\n",
      "test_are_friends : test quand deux ami(e)s ont le même prénom = Réussi\n"
     ]
    }
   ],
   "source": [
    "def test_are_friends():\n",
    "    \"\"\"\n",
    "        Fonction test de la fonction are_friends\n",
    "    \"\"\"\n",
    "    assert are_friends({}, \"Alice\", \"Bob\") == False\n",
    "    print(\"test_are_friends : test d'amitié entre deux personne qui ne sont pas dans le réseau : Réussi\")\n",
    "    assert are_friends({\"Alice\" : [\"Bob\",\"Lili\"], \"Bob\" : \"Alice\"}, \"Alice\", \"Bob\") == True\n",
    "    print(\"test_are_friends : test d'amitié entre deux personnes du même réseau : Réussi\")\n",
    "    assert are_friends({\"Alice\" : \"Lili\", \"Bob\" : \"Alice\"}, \"Alice\", \"Bob\") == False\n",
    "    print(\"test_are_friends : test quand une personne du réseau est ami avec l'un mais l'autre ne l'est pas = Réussi\")\n",
    "    assert are_friends({\"Alice\" : \"Alice\", \"Alice\" : [\"Alice\", \"Bob\"]}, \"Alice\", \"Alice\") == True\n",
    "    print(\"test_are_friends : test quand deux ami(e)s ont le même prénom = Réussi\")\n",
    "\n",
    "test_are_friends()\n",
    "    "
   ]
  },
  {
   "cell_type": "markdown",
   "metadata": {},
   "source": [
    "### Question 5\n",
    "\n",
    "Définir la fonction `all_his_friends` prenant en paramètre réseau, une personne et un groupe de personnes et retournant `True` si la personne est amie avec toutes les personnes du groupe, et False sinon.\n",
    "\n",
    "L'appel de cette fonction avec le réseau donné en exemple, la personne `\"Alice\"`, et le groupe `[\"Bob\", \"Dominique\"]` doit retourner `True` alors qu'elle doit retourner `False` pour le groupe `[\"Bob\", \"Charlie\"]`.\n"
   ]
  },
  {
   "cell_type": "code",
   "execution_count": 11,
   "metadata": {},
   "outputs": [],
   "source": [
    "def all_his_friends(network, person, group):\n",
    "    for other_person in group :\n",
    "        if not are_friends(network, person, other_person):\n",
    "            return False\n",
    "    return True\n",
    "\n"
   ]
  },
  {
   "cell_type": "code",
   "execution_count": 21,
   "metadata": {},
   "outputs": [
    {
     "name": "stdout",
     "output_type": "stream",
     "text": [
      "test_all_his_friends : test d'amitié avec Muriel qui est bien amie avec les personnes du tableau : Réussi\n",
      "test_all_his_friends : test d'amitié avec Muriel qui n'est pas amie avec Léa qui est dans le tableau : Réussi\n",
      "test_all_his_friends : test d'amitié avec Marya qui n'est pas dans le réseau d'ami : Réussi\n",
      "test_all_his_friends : test d'amitié avec un réseau d'ami vide : Réussi\n"
     ]
    }
   ],
   "source": [
    "def test_all_his_friends():\n",
    "    \"\"\"\n",
    "        Fonction test de la fonction all_his_friends\n",
    "    \"\"\"\n",
    "    network = create_network(p_amis)\n",
    "\n",
    "    assert(all_his_friends(network, \"Muriel\", ['Joel', 'Yasmine'])) == True\n",
    "    print(\"test_all_his_friends : test d'amitié avec Muriel qui est bien amie avec les personnes du tableau : Réussi\")\n",
    "    assert(all_his_friends(network, \"Muriel\", ['Joel', 'Léa'])) == False\n",
    "    print(\"test_all_his_friends : test d'amitié avec Muriel qui n'est pas amie avec Léa qui est dans le tableau : Réussi\")\n",
    "    assert(all_his_friends(network, \"Marya\", ['Joel', 'Yasmine'])) == False\n",
    "    print(\"test_all_his_friends : test d'amitié avec Marya qui n'est pas dans le réseau d'ami : Réussi\")\n",
    "    assert(all_his_friends({},\"Muriel\", ['Joel', 'Yasmine'])) == False\n",
    "    print(\"test_all_his_friends : test d'amitié avec un réseau d'ami vide : Réussi\")\n",
    "    \n",
    "test_all_his_friends()\n"
   ]
  },
  {
   "cell_type": "markdown",
   "metadata": {},
   "source": [
    "### Question 6\n",
    "\n",
    "\n",
    "Définir la fonction `is_a_community` prenant en paramètre un dictionnaire modélisant le réseau et un groupe de personnes (tableau de personnes) et retourne `True` si ce groupe est une communauté, et False sinon.\n",
    "\n",
    "L'appel de cette fonction avec le réseau donné en exemple doit retourner `True` pour le groupe `[\"Alice\", \"Bob\", \"Dominique\"]`, et `False` pour le groupe `[\"Alice\", \"Bob\", \"Charlie\"]`.\n"
   ]
  },
  {
   "cell_type": "code",
   "execution_count": 13,
   "metadata": {},
   "outputs": [
    {
     "name": "stdout",
     "output_type": "stream",
     "text": [
      "True\n"
     ]
    }
   ],
   "source": [
    "def is_a_community(network, tab) :\n",
    "    i = 0\n",
    "    while i < len(tab):\n",
    "        for val in tab :\n",
    "            if val == tab[i]:\n",
    "                continue\n",
    "            if val not in network[tab[i]]:\n",
    "                return False\n",
    "        i+=1\n",
    "    return True \n",
    "    \n",
    "print(is_a_community(create_network(p_amis),[\"Muriel\", \"Joel\", \"Yasmine\"]))"
   ]
  },
  {
   "cell_type": "code",
   "execution_count": 27,
   "metadata": {},
   "outputs": [
    {
     "name": "stdout",
     "output_type": "stream",
     "text": [
      "test_is_a_community : test de communauté avec 3 personnes de la même communauté : Réussi\n",
      "test_is_a_community : test de communauté avec 3 personnes dont un n'est pas ami avec un membre du groupe : Réussi\n",
      "test_is_a_community : test de communauté avec un tableau vide en paramètre : Réussi\n"
     ]
    }
   ],
   "source": [
    "def test_is_a_community():\n",
    "    \"\"\"\n",
    "        Fonction test de la fonction is_a_community\n",
    "    \"\"\"\n",
    "    network = {\"Alice\": [\"Bob\", \"Dominique\"],\n",
    "               \"Bob\": [\"Alice\", \"Charlie\", \"Dominique\"],\n",
    "               \"Charlie\": [\"Bob\"],\n",
    "               \"Dominique\": [\"Alice\", \"Bob\"]\n",
    "               }\n",
    "    assert (is_a_community(network, [\"Alice\", \"Bob\", \"Dominique\"])) == True\n",
    "    print(\"test_is_a_community : test de communauté avec 3 personnes de la même communauté : Réussi\")\n",
    "    assert (is_a_community(network, [\"Alice\", \"Bob\", \"Charlie\"])) == False\n",
    "    print(\"test_is_a_community : test de communauté avec 3 personnes dont un n'est pas ami avec un membre du groupe : Réussi\")\n",
    "    # True car on a besoin de rien vérifier le vide est une communauté à lui tout seul constitué de rien\n",
    "    assert (is_a_community(network, [])) == True\n",
    "    print(\"test_is_a_community : test de communauté avec un tableau vide en paramètre : Réussi\")\n",
    "\n",
    "\n",
    "test_is_a_community()\n"
   ]
  },
  {
   "attachments": {},
   "cell_type": "markdown",
   "metadata": {},
   "source": [
    "### Question 7\n",
    "\n",
    "Pour trouver une communauté maximale (au sens où il n'existe personne qui puisse être ajoutée dans cette communauté) dans un réseau, une heuristique est la suivante :\n",
    "- On part d'une communauté vide.\n",
    "- On considère les personnes les unes après les autres. Pour chacune des personnes, si celle-ci est amie avec tous les membres de la communauté déjà créée, alors on l'ajoute à la communauté.\n",
    "\n",
    "\n",
    "Définir la fonction `find_community` prenant en paramètre un réseau et un groupe de personnes et retournant une communauté en fonction de l'heuristique décrite juste au-dessus. L'ordre des personnes sera donné par l'ordre de celles-ci dans le tableau correspondant au groupe.\n",
    "\n",
    "L'appel de cette fonction avec le réseau donné en exemple doit retourner : \n",
    "- `[\"Alice\", \"Bob\", \"Dominique\"]` pour le groupe `[\"Alice\", \"Bob\", \"Charlie\", \"Dominique\"]`,\n",
    "- `[\"Charlie\", \"Bob\"]` pour le groupe `[\"Charlie\", \"Alice\", \"Bob\", \"Dominique\"]`,\n",
    "- `[\"Charlie\"]` pour le groupe `[\"Charlie\", \"Alice\", \"Dominique\"]`.\n"
   ]
  },
  {
   "cell_type": "code",
   "execution_count": 22,
   "metadata": {},
   "outputs": [
    {
     "name": "stdout",
     "output_type": "stream",
     "text": [
      "['Muriel', 'Joel', 'Yasmine']\n"
     ]
    }
   ],
   "source": [
    "def find_community(network, group):\n",
    "    community = []\n",
    "    # On cherche la première personne du group qui est dans le network\n",
    "    i = 0\n",
    "    while i < len(group) and group[0] not in network.keys():\n",
    "        i += 1\n",
    "\n",
    "    # Si on en trouve pas on retourne une community vide\n",
    "    if i == len(group):\n",
    "        return community\n",
    "\n",
    "    # Si on trouve on l'ajoute à la community et on vérifie les autres\n",
    "    community.append(group[i])\n",
    "    i += 1\n",
    "    while i < len(group):\n",
    "        if group[i] in network.keys() and all_his_friends(network, group[i], community):\n",
    "            community.append(group[i])\n",
    "        i += 1\n",
    "    return community\n",
    "\n",
    "\n",
    "print(find_community(create_network(p_amis), [\"Muriel\", \"Joel\", \"Yasmine\"]))\n"
   ]
  },
  {
   "cell_type": "code",
   "execution_count": 29,
   "metadata": {},
   "outputs": [
    {
     "name": "stdout",
     "output_type": "stream",
     "text": [
      "test_find_community : test avec un groupe dont une personne n'est pas amie avec toute les personne du groupe d'amis de la première personne du tableau en paramètre : Réussi\n",
      "test_find_community : test avec un groupe dont une personne est amie avec la première personne du tableau en paramètre : Réussi\n",
      "test_find_community : test avec un groupe dont personne n'est amie avec la première personne du tableau en paramètre : Réussi\n",
      "test_find_community : test avec un tableau vide en paramètre : Réussi\n"
     ]
    }
   ],
   "source": [
    "def test_find_community():\n",
    "    \"\"\" \n",
    "        Fonction test de la fonction find_community\n",
    "    \"\"\"\n",
    "    network = {\"Alice\": [\"Bob\", \"Dominique\"],\n",
    "               \"Bob\": [\"Alice\", \"Charlie\", \"Dominique\"],\n",
    "               \"Charlie\": [\"Bob\"],\n",
    "               \"Dominique\": [\"Alice\", \"Bob\"]\n",
    "               }\n",
    "    assert (find_community(network, [\"Alice\", \"Bob\", \"Charlie\", \"Dominique\"])) == [\n",
    "        \"Alice\", \"Bob\", \"Dominique\"]\n",
    "    print(\"test_find_community : test avec un groupe dont une personne n'est pas amie avec toute les personne du groupe d'amis de la première personne du tableau en paramètre : Réussi\")\n",
    "    assert (find_community(network, [\"Charlie\", \"Alice\", \"Bob\", \"Dominique\"])) == [\n",
    "        \"Charlie\", \"Bob\"]\n",
    "    print(\"test_find_community : test avec un groupe dont une personne est amie avec la première personne du tableau en paramètre : Réussi\")\n",
    "    assert (find_community(network, [\"Charlie\", \"Alice\", \"Dominique\"])) == [\n",
    "        \"Charlie\"]\n",
    "    print(\"test_find_community : test avec un groupe dont personne n'est amie avec la première personne du tableau en paramètre : Réussi\")\n",
    "    assert (find_community(network, [])) == []\n",
    "    print(\"test_find_community : test avec un tableau vide en paramètre : Réussi\")\n",
    "\n",
    "test_find_community()\n"
   ]
  },
  {
   "cell_type": "markdown",
   "metadata": {},
   "source": [
    "### Question 8\n",
    "\n",
    "Définir la fonction `order_by_decreasing_popularity` prenant en paramètre un réseau et un groupe de personnes et triant le groupe de personnes selon la popularité (nombre d'amis) décroissante.\n",
    "\n",
    "L'appel de cette fonction avec le réseau donné en exemple et le groupe `[\"Alice\", \"Bob\", \"Charlie\"]` doit trier le groupe dans l'ordre `[\"Bob\", \"Alice\", \"Charlie\"]`.\n"
   ]
  },
  {
   "cell_type": "code",
   "execution_count": 15,
   "metadata": {},
   "outputs": [
    {
     "name": "stdout",
     "output_type": "stream",
     "text": [
      "['Bob', 'Alice', 'Charlie']\n"
     ]
    }
   ],
   "source": [
    "def order_by_decreasing_popularity(network, tab) :\n",
    "    j = 0\n",
    "    while j < len(tab)-1:\n",
    "        i = j\n",
    "        while i < len(tab)-1 :\n",
    "            if len(network[tab[j]]) < len(network[tab[i]]):\n",
    "                min = tab[j]\n",
    "                tab[j] = tab[i]\n",
    "                tab[i] = min\n",
    "            i+=1\n",
    "        j+=1\n",
    "        \n",
    "    return tab\n",
    "\n",
    "\n",
    "print(order_by_decreasing_popularity({\n",
    "  \"Alice\" : [\"Bob\", \"Dominique\"],\n",
    "  \"Bob\" : [\"Alice\", \"Charlie\", \"Dominique\"],\n",
    "  \"Charlie\" : [\"Bob\"],\n",
    "  \"Dominique\" : [\"Alice\", \"Bob\"]\n",
    "}, [\"Alice\", \"Bob\", \"Charlie\"] ))\n",
    "    \n"
   ]
  },
  {
   "cell_type": "code",
   "execution_count": 30,
   "metadata": {},
   "outputs": [
    {
     "name": "stdout",
     "output_type": "stream",
     "text": [
      "test_test_order_by_decreasing_popularity : test avec un groupe personne d'un réseau :  Réussi\n",
      "test_test_order_by_decreasing_popularity : test avec un tableau vide en paramètre :  Réussi\n"
     ]
    }
   ],
   "source": [
    "def test_order_by_decreasing_popularity():\n",
    "    \"\"\"\n",
    "        Fonction test de la fonction order_by_decreasing_popularity\n",
    "    \"\"\"\n",
    "    network = {\n",
    "        \"Alice\": [\"Bob\", \"Dominique\"],\n",
    "        \"Bob\": [\"Alice\", \"Charlie\", \"Dominique\"],\n",
    "        \"Charlie\": [\"Bob\"],\n",
    "        \"Dominique\": [\"Alice\", \"Bob\"]\n",
    "    }\n",
    "    assert(order_by_decreasing_popularity(network, [\"Alice\", \"Bob\", \"Charlie\"])) == ['Bob', 'Alice', 'Charlie']\n",
    "    print(\"test_test_order_by_decreasing_popularity : test avec un groupe personne d'un réseau :  Réussi\")\n",
    "    assert(order_by_decreasing_popularity(network, [])) == []\n",
    "    print(\"test_test_order_by_decreasing_popularity : test avec un tableau vide en paramètre :  Réussi\")\n",
    "\n",
    "test_order_by_decreasing_popularity()"
   ]
  },
  {
   "cell_type": "markdown",
   "metadata": {},
   "source": [
    "### Question 9\n",
    "\n",
    "Définir la fonction `find_community_by_decreasing_popularity` prenant en paramètre un réseau. La fonction doit trier l'ensemble des personnes du réseau selon l'ordre décroissant de popularité puis retourner la communauté trouvée en appliquant l'heuristique de construction de communauté maximale expliquée plus haut.\n",
    "\n",
    "L'appel de cette fonction avec le réseau donné en exemple doit retourner la communauté `[\"Bob\", \"Alice\", \"Dominique\"]` (l'ordre dans le tableau n'a pas d'importance)."
   ]
  },
  {
   "cell_type": "code",
   "execution_count": 16,
   "metadata": {},
   "outputs": [],
   "source": [
    "def find_community_by_decreasing_popularity(network):\n",
    "    return find_community(network, order_by_decreasing_popularity(network, get_people(network)))"
   ]
  },
  {
   "cell_type": "code",
   "execution_count": 31,
   "metadata": {},
   "outputs": [
    {
     "name": "stdout",
     "output_type": "stream",
     "text": [
      "test_find_community_by_decreasing_popularity : test avec un réseau : Réussi\n",
      "test_find_community_by_decreasing_popularity : test avec un réseau vide : Réussi\n"
     ]
    }
   ],
   "source": [
    "def test_find_community_by_decreasing_popularity():\n",
    "    \"\"\"\n",
    "        Fonction test de la fonction find_community_by_decreasing_popularity\n",
    "    \"\"\"\n",
    "    network = {\n",
    "        \"Alice\": [\"Bob\", \"Dominique\"],\n",
    "        \"Bob\": [\"Alice\", \"Charlie\", \"Dominique\"],\n",
    "        \"Charlie\": [\"Bob\"],\n",
    "        \"Dominique\": [\"Alice\", \"Bob\"]\n",
    "    }\n",
    "    assert(find_community_by_decreasing_popularity(network)) == [\"Bob\", \"Alice\", \"Dominique\"]\n",
    "    print(\"test_find_community_by_decreasing_popularity : test avec un réseau : Réussi\")\n",
    "    assert(find_community_by_decreasing_popularity({})) == []\n",
    "    print(\"test_find_community_by_decreasing_popularity : test avec un réseau vide : Réussi\")\n",
    "\n",
    "test_find_community_by_decreasing_popularity()"
   ]
  },
  {
   "cell_type": "markdown",
   "metadata": {},
   "source": [
    "### Question 10\n",
    "\n",
    "Par définition, si une personne appartient à cette communauté, alors la communauté est un sous-ensemble des amis de cette personne plus elle-même.\n",
    "\n",
    "On peut donc modifier l'heuristique précédente pour constuire une communauté maximale : \n",
    "- on choisit une personne du réseau,\n",
    "- on crée une communauté contenant juste cette personne,\n",
    "- on considère les amis de cette personne par ordre de popularité décroissante. Pour chacune de ces personnes, si celle-ci est amie avec tous les membres de la communauté déjà créée, alors on l'ajoute à la communauté.\n",
    "\n",
    "Si l'on part d'une personne la plus populaire, alors cette heuristique est la même que la précédente (attention cependant, les communautés retournées peuvent ne pas être les mêmes si plusieurs personnes ont le même nombre d'amis).\n",
    "\n",
    "Définir la fonction `find_community_from_person` prenant en paramètre un réseau et une personne, et retournant une communauté maximale contenant cette personne selon l'heuristique décrite ci-dessus.\n",
    "\n",
    "L'appel de cette fonction avec le réseau donné en exemple et la personne `\"Alice\"` doit retourner la communauté `[\"Alice\", \"Bob\", \"Dominique\"]`. Avec la personne `\"Charlie\"`, la fonction doit retourner `[\"Charlie\", \"Bob\"]`."
   ]
  },
  {
   "cell_type": "code",
   "execution_count": 36,
   "metadata": {},
   "outputs": [
    {
     "name": "stdout",
     "output_type": "stream",
     "text": [
      "['Charlie', 'Bob']\n"
     ]
    }
   ],
   "source": [
    "def find_community_from_person(network, person):\n",
    "    commu = [person]\n",
    "    commu += find_community(network, (order_by_decreasing_popularity(network, network[person])))\n",
    "    return commu\n",
    "\n",
    "\n",
    "network =  {\"Alice\" : [\"Bob\", \"Dominique\"],\n",
    "  \"Bob\" : [\"Alice\", \"Charlie\", \"Dominique\"],\n",
    "  \"Charlie\" : [\"Bob\"],\n",
    "  \"Dominique\" : [\"Alice\", \"Bob\"]\n",
    "}\n",
    "print(find_community_from_person(network, \"Charlie\"))"
   ]
  },
  {
   "cell_type": "code",
   "execution_count": 37,
   "metadata": {},
   "outputs": [
    {
     "name": "stdout",
     "output_type": "stream",
     "text": [
      "test_find_community_from_person : test avec Alice : Réussi\n",
      "test_find_community_from_person : test avec Charlie : Réussi\n"
     ]
    }
   ],
   "source": [
    "def test_find_community_from_person():\n",
    "    \"\"\" \n",
    "        Fonction test de la fonction find_community_from_person\n",
    "    \"\"\"\n",
    "    network = {\"Alice\": [\"Bob\", \"Dominique\"],\n",
    "               \"Bob\": [\"Alice\", \"Charlie\", \"Dominique\"],\n",
    "               \"Charlie\": [\"Bob\"],\n",
    "               \"Dominique\": [\"Alice\", \"Bob\"]\n",
    "               }\n",
    "    assert(find_community_from_person(network, \"Alice\")) == [\"Alice\", \"Bob\", \"Dominique\"]\n",
    "    print(\"test_find_community_from_person : test avec Alice : Réussi\")\n",
    "    assert(find_community_from_person(network, \"Charlie\")) == [\"Charlie\", \"Bob\"]\n",
    "    print(\"test_find_community_from_person : test avec Charlie : Réussi\")\n",
    "\n",
    "test_find_community_from_person()\n"
   ]
  },
  {
   "cell_type": "markdown",
   "metadata": {},
   "source": [
    "### Question 11\n",
    "\n",
    "Comparer théoriquement et expérimentalement les deux heuristiques de construction, celle donnée par la fonction `find_community_by_decreasing_popularity` et celles donnée par la fonction `find_community_from_person` appliquée à une personne la plus populaire (la recherche de la personne la plus populaire sera prise en compte dans la complexité).\n"
   ]
  },
  {
   "cell_type": "code",
   "execution_count": 18,
   "metadata": {},
   "outputs": [
    {
     "name": "stdout",
     "output_type": "stream",
     "text": [
      "temps d'execution de find_community_by_decreasing_popularity :  2.6941299438476562e-05\n",
      "temps d'execution de find_community_from_person  6.890296936035156e-05\n"
     ]
    }
   ],
   "source": [
    "debut = time()\n",
    "find_community_by_decreasing_popularity(network)\n",
    "print(\"temps d'execution de find_community_by_decreasing_popularity : \", time()-debut)\n",
    "\n",
    "debut = time()\n",
    "tab = get_people(network)\n",
    "most_popular_index = 0\n",
    "i = 1\n",
    "while i < len(tab):\n",
    "    if len(network[tab[i]]) >= len(network[tab[most_popular_index]]):\n",
    "        most_popular_index = i\n",
    "    i+=1\n",
    "\n",
    "find_community_from_person(network, tab[most_popular_index])\n",
    "\n",
    "print(\"temps d'execution de find_community_from_person \", time()-debut)\n"
   ]
  },
  {
   "cell_type": "markdown",
   "metadata": {},
   "source": [
    "La complexité des deux fonctions est quadratique car elles ont des boucles qui parcout le tableau et pour chaque valeur du tableau elles font appel à d'autres fonctions qui elles mêmes parcourent le tableau en paramètre."
   ]
  },
  {
   "cell_type": "markdown",
   "metadata": {},
   "source": [
    "### Question 12\n",
    "\n",
    "Définir la fonction `find_max_community` prenant en paramètre un réseau et appliquant l'heuristique de recherche de communauté maximale donnée par `find_community_from_person` pour toutes les personnes du réseau. La fonction doit retourner la plus grande communauté trouvée.\n",
    "\n",
    "L'appel de cette fonction avec le réseau donné en exemple doit retourner la communauté `[\"Alice\", \"Bob\", \"Dominique\"]` (peu importe l'ordre). "
   ]
  },
  {
   "cell_type": "code",
   "execution_count": 19,
   "metadata": {},
   "outputs": [],
   "source": [
    "def find_max_community(network):\n",
    "    max_commu = []\n",
    "    for person in network:\n",
    "        person_community = find_community_from_person(network, person)\n",
    "        if len(max_commu) < len(person_community):\n",
    "            max_commu = person_community\n",
    "    return max_commu"
   ]
  },
  {
   "cell_type": "code",
   "execution_count": 39,
   "metadata": {},
   "outputs": [
    {
     "name": "stdout",
     "output_type": "stream",
     "text": [
      "test_find_max_community : test avec un réseau d'ami : Réussi\n",
      "test_find_max_community : test avec un réseau d'ami vide : Réussi\n"
     ]
    }
   ],
   "source": [
    "def test_find_max_community():\n",
    "    \"\"\" \n",
    "        Fonction test de la fonction find_max_community\n",
    "    \"\"\"\n",
    "    network = {\"Alice\": [\"Bob\", \"Dominique\"],\n",
    "               \"Bob\": [\"Alice\", \"Charlie\", \"Dominique\"],\n",
    "               \"Charlie\": [\"Bob\"],\n",
    "               \"Dominique\": [\"Alice\", \"Bob\"]\n",
    "               }\n",
    "    assert(find_max_community(network)) == [\"Alice\", \"Bob\", \"Dominique\"]\n",
    "    print(\"test_find_max_community : test avec un réseau d'ami : Réussi\")\n",
    "    assert(find_max_community({})) == []\n",
    "    print(\"test_find_max_community : test avec un réseau d'ami vide : Réussi\")\n",
    "\n",
    "test_find_max_community()"
   ]
  },
  {
   "cell_type": "markdown",
   "metadata": {},
   "source": [
    "## Développement et rendu\n",
    "\n",
    "La SAÉ devra être faite en binôme. Les fonctions doivent être implémentées dans un module appelé `community_detection.py` et les tests unitaires des fonctions dans le module `test_community_detection.py`. Les comparaisons théoriques et expérimentales demandées devront être données dans un notebook appelé `using_community_detection.ipynb`. Le répertoire du projet devra également contenir un fichier `etudiants.txt` contenant les codes INE de deux étudiants du projet (un par ligne).\n",
    "\n",
    "Un squelette de rendu de projet se trouve sur le dépôt gitlab de l'université.\n"
   ]
  }
 ],
 "metadata": {
  "kernelspec": {
   "display_name": "Python 3.10.8 64-bit",
   "language": "python",
   "name": "python3"
  },
  "language_info": {
   "codemirror_mode": {
    "name": "ipython",
    "version": 3
   },
   "file_extension": ".py",
   "mimetype": "text/x-python",
   "name": "python",
   "nbconvert_exporter": "python",
   "pygments_lexer": "ipython3",
   "version": "3.10.8 (v3.10.8:aaaf517424, Oct 11 2022, 10:14:40) [Clang 13.0.0 (clang-1300.0.29.30)]"
  },
  "orig_nbformat": 4,
  "vscode": {
   "interpreter": {
    "hash": "aee8b7b246df8f9039afb4144a1f6fd8d2ca17a180786b69acc140d282b71a49"
   }
  }
 },
 "nbformat": 4,
 "nbformat_minor": 2
}
